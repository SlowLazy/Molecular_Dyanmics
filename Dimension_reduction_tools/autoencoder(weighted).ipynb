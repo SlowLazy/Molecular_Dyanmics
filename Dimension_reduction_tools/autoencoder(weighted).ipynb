{
 "cells": [
  {
   "cell_type": "code",
   "execution_count": 14,
   "id": "b102fd9a-8099-40af-a51e-114008288ccb",
   "metadata": {},
   "outputs": [
    {
     "name": "stdout",
     "output_type": "stream",
     "text": [
      "shape is (482, 9)\n",
      "shape is (482, 1)\n",
      "loss 0.1425693165510893\n",
      "Val_loss 0.5257143415510654\n",
      "relative_error 1.2257495517572405\n"
     ]
    },
    {
     "data": {
      "image/png": "[encoded data removed]",
      "text/plain": [
       "<Figure size 432x288 with 1 Axes>"
      ]
     },
     "metadata": {
      "needs_background": "light"
     },
     "output_type": "display_data"
    }
   ],
   "source": [
    "from tensorflow.keras import Input, layers, losses, metrics\n",
    "from tensorflow.keras.models import Model\n",
    "from tensorflow.keras.callbacks import EarlyStopping\n",
    "from tensorflow.keras import optimizers\n",
    "\n",
    "import numpy as np\n",
    "import numpy.linalg as la \n",
    "import scipy.io\n",
    "import matplotlib.pyplot as plt\n",
    "\n",
    "# load training and test sets\n",
    "mat = scipy.io.loadmat('X')\n",
    "x_train = np.transpose(mat['X'])\n",
    "mat = scipy.io.loadmat('Y')\n",
    "x_test = np.transpose(mat['Y'])\n",
    "\n",
    "# give weights\n",
    "mat = scipy.io.loadmat('W')\n",
    "weights = np.transpose(mat['W'])\n",
    "\n",
    "print('shape is',x_train.shape)\n",
    "print('shape is',weights.shape)\n",
    "\n",
    "# degree of freedoms for CVs\n",
    "encoding_dim = 2  \n",
    "\n",
    "\n",
    "# set Input\n",
    "input_img = Input(shape=(x_train.shape[1],))\n",
    "\n",
    "# layers between input and bottleneck\n",
    "encoded = layers.Dense(1000, activation='tanh')(input_img)\n",
    "encoded_2 = layers.Dense(2, activation='tanh')(encoded)\n",
    "\n",
    "# set encoder\n",
    "encoder = Model(input_img, encoded_2)\n",
    "\n",
    "# set input for decoder\n",
    "decoder_input = Input(shape=(encoding_dim,))\n",
    "\n",
    "# Layers between bottleneck and output\n",
    "decoded = layers.Dense(1000, activation='tanh')(decoder_input)\n",
    "decoded_2 = layers.Dense(x_train.shape[1])(decoded)\n",
    "\n",
    "# set decoder\n",
    "decoder = Model(decoder_input,decoded_2)\n",
    "\n",
    "# \n",
    "auto_encoder_input =  Input(shape=(x_train.shape[1],))\n",
    "auto_encoder_encoder_out = encoder(auto_encoder_input)\n",
    "auto_encoder_decoder_out = decoder(auto_encoder_encoder_out)\n",
    "autoencoder = Model(auto_encoder_input, auto_encoder_decoder_out)\n",
    "\n",
    "callback = EarlyStopping(monitor='val_loss', patience=100)\n",
    "\n",
    "\n",
    "opt = optimizers.SGD(learning_rate=0.001)\n",
    "autoencoder.compile(optimizer=opt, loss='mse')\n",
    "\n",
    "\n",
    "history = autoencoder.fit(x_train, x_train,\n",
    "                epochs=2000,\n",
    "                batch_size=30,\n",
    "                sample_weight=weights,\n",
    "                shuffle=True,\n",
    "                callbacks=[callback],\n",
    "                verbose=0,\n",
    "                validation_data=(x_test, x_test))\n",
    "# loss = 1/(M*d)* sum of squares of errors, where M is the size of training set and d is the dimension of input vector\n",
    "# validation loss is defined similarly over the test set, instead of M, m as the size of test set\n",
    "\n",
    "# Encoder and decoder\n",
    "encoded_imgs = encoder.predict(x_train)\n",
    "decoded_imgs = decoder.predict(encoded_imgs)\n",
    "\n",
    "CV = encoder.predict(x_train)\n",
    "\n",
    "file_name = 'CV.mat'\n",
    "scipy.io.savemat(file_name, {'CV': CV})\n",
    "\n",
    "n = x_train.shape[0]*x_train.shape[1]\n",
    "plt.plot(history.history[\"loss\"], label=\"Training Loss\")\n",
    "plt.plot(history.history[\"val_loss\"], label=\"Validation Loss\")\n",
    "plt.legend()\n",
    "print('loss',x_train.shape[1]*history.history[\"loss\"][-1])\n",
    "print('Val_loss',x_train.shape[1]*history.history[\"val_loss\"][-1])\n",
    "print('relative_error',x_train.shape[0]*x_train.shape[1]*history.history[\"loss\"][-1]/la.norm(x_train,'fro'))"
   ]
  },
  {
   "cell_type": "code",
   "execution_count": 15,
   "id": "1f3f30d0-1ab7-49d5-88fa-5924f7467ba9",
   "metadata": {},
   "outputs": [
    {
     "name": "stdout",
     "output_type": "stream",
     "text": [
      "0.9739932968993598\n",
      "[[0.89576346 0.7253718 ]]\n",
      "0.24796515020697232\n",
      "[[0.9476754  0.85649025]]\n"
     ]
    }
   ],
   "source": [
    "x = np.array([x_train[0,:]])\n",
    "y = encoder.predict(x)\n",
    "print(la.norm(x-decoder.predict(y)))\n",
    "print(y)\n",
    "x = np.array([x_train[1,:]])\n",
    "y = encoder.predict(x)\n",
    "print(la.norm(x-decoder.predict(y)))\n",
    "print(y)"
   ]
  },
  {
   "cell_type": "code",
   "execution_count": 58,
   "id": "a0a8f22b-4f4a-4624-9bfe-3c64b8f064c6",
   "metadata": {},
   "outputs": [
    {
     "name": "stdout",
     "output_type": "stream",
     "text": [
      "1/1 [==============================] - 0s 29ms/step\n",
      "1/1 [==============================] - 0s 28ms/step\n",
      "loc_1(x)<loc_2(x)\n",
      "loc_2(y)<loc_1(y)\n",
      "1/1 [==============================] - 0s 28ms/step\n",
      "1/1 [==============================] - 0s 48ms/step\n",
      "1/1 [==============================] - 0s 28ms/step\n",
      "1/1 [==============================] - 0s 28ms/step\n",
      "1/1 [==============================] - 0s 28ms/step\n",
      "1/1 [==============================] - 0s 28ms/step\n",
      "1/1 [==============================] - 0s 29ms/step\n",
      "1/1 [==============================] - 0s 29ms/step\n",
      "1/1 [==============================] - 0s 39ms/step\n",
      "1/1 [==============================] - 0s 28ms/step\n",
      "1/1 [==============================] - 0s 28ms/step\n",
      "1/1 [==============================] - 0s 28ms/step\n",
      "1/1 [==============================] - 0s 28ms/step\n",
      "1/1 [==============================] - 0s 28ms/step\n",
      "1/1 [==============================] - 0s 27ms/step\n",
      "1/1 [==============================] - 0s 28ms/step\n",
      "1/1 [==============================] - 0s 28ms/step\n",
      "1/1 [==============================] - 0s 29ms/step\n",
      "1/1 [==============================] - 0s 29ms/step\n",
      "1/1 [==============================] - 0s 28ms/step\n",
      "1/1 [==============================] - 0s 28ms/step\n",
      "1/1 [==============================] - 0s 48ms/step\n",
      "1/1 [==============================] - 0s 28ms/step\n",
      "1/1 [==============================] - 0s 32ms/step\n",
      "1/1 [==============================] - 0s 39ms/step\n",
      "1/1 [==============================] - 0s 29ms/step\n",
      "1/1 [==============================] - 0s 29ms/step\n",
      "1/1 [==============================] - 0s 28ms/step\n",
      "1/1 [==============================] - 0s 31ms/step\n",
      "1/1 [==============================] - 0s 28ms/step\n",
      "1/1 [==============================] - 0s 28ms/step\n",
      "1/1 [==============================] - 0s 28ms/step\n",
      "1/1 [==============================] - 0s 28ms/step\n",
      "1/1 [==============================] - 0s 28ms/step\n",
      "1/1 [==============================] - 0s 29ms/step\n",
      "1/1 [==============================] - 0s 28ms/step\n",
      "1/1 [==============================] - 0s 28ms/step\n",
      "1/1 [==============================] - 0s 28ms/step\n",
      "1/1 [==============================] - 0s 28ms/step\n",
      "1/1 [==============================] - 0s 31ms/step\n",
      "1/1 [==============================] - 0s 29ms/step\n",
      "1/1 [==============================] - 0s 47ms/step\n",
      "1/1 [==============================] - 0s 28ms/step\n",
      "1/1 [==============================] - 0s 28ms/step\n",
      "1/1 [==============================] - 0s 28ms/step\n",
      "1/1 [==============================] - 0s 28ms/step\n",
      "1/1 [==============================] - 0s 32ms/step\n",
      "1/1 [==============================] - 0s 28ms/step\n",
      "1/1 [==============================] - 0s 42ms/step\n",
      "1/1 [==============================] - 0s 28ms/step\n",
      "1/1 [==============================] - 0s 28ms/step\n",
      "1/1 [==============================] - 0s 28ms/step\n",
      "1/1 [==============================] - 0s 29ms/step\n",
      "1/1 [==============================] - 0s 29ms/step\n",
      "1/1 [==============================] - 0s 36ms/step\n",
      "1/1 [==============================] - 0s 30ms/step\n",
      "1/1 [==============================] - 0s 29ms/step\n",
      "1/1 [==============================] - 0s 31ms/step\n",
      "1/1 [==============================] - 0s 28ms/step\n",
      "1/1 [==============================] - 0s 29ms/step\n",
      "1/1 [==============================] - 0s 28ms/step\n",
      "1/1 [==============================] - 0s 48ms/step\n",
      "1/1 [==============================] - 0s 28ms/step\n",
      "1/1 [==============================] - 0s 29ms/step\n",
      "1/1 [==============================] - 0s 28ms/step\n",
      "1/1 [==============================] - 0s 28ms/step\n",
      "1/1 [==============================] - 0s 30ms/step\n",
      "1/1 [==============================] - 0s 29ms/step\n",
      "1/1 [==============================] - 0s 38ms/step\n",
      "1/1 [==============================] - 0s 28ms/step\n",
      "1/1 [==============================] - 0s 28ms/step\n",
      "1/1 [==============================] - 0s 29ms/step\n",
      "1/1 [==============================] - 0s 33ms/step\n",
      "1/1 [==============================] - 0s 31ms/step\n",
      "1/1 [==============================] - 0s 47ms/step\n",
      "1/1 [==============================] - 0s 34ms/step\n",
      "1/1 [==============================] - 0s 28ms/step\n",
      "1/1 [==============================] - 0s 28ms/step\n",
      "1/1 [==============================] - 0s 29ms/step\n",
      "1/1 [==============================] - 0s 29ms/step\n",
      "1/1 [==============================] - 0s 28ms/step\n",
      "1/1 [==============================] - 0s 46ms/step\n",
      "1/1 [==============================] - 0s 28ms/step\n",
      "1/1 [==============================] - 0s 29ms/step\n",
      "1/1 [==============================] - 0s 28ms/step\n",
      "1/1 [==============================] - 0s 28ms/step\n",
      "1/1 [==============================] - 0s 28ms/step\n",
      "1/1 [==============================] - 0s 38ms/step\n",
      "1/1 [==============================] - 0s 28ms/step\n",
      "1/1 [==============================] - 0s 29ms/step\n",
      "1/1 [==============================] - 0s 28ms/step\n",
      "1/1 [==============================] - 0s 30ms/step\n",
      "1/1 [==============================] - 0s 29ms/step\n",
      "1/1 [==============================] - 0s 29ms/step\n",
      "1/1 [==============================] - 0s 49ms/step\n",
      "1/1 [==============================] - 0s 29ms/step\n",
      "1/1 [==============================] - 0s 30ms/step\n",
      "1/1 [==============================] - 0s 28ms/step\n",
      "1/1 [==============================] - 0s 28ms/step\n",
      "1/1 [==============================] - 0s 29ms/step\n"
     ]
    }
   ],
   "source": [
    "\n",
    "# call two local minima\n",
    "x_loc_1 = encoder.predict(np.array([x_train[0,:]]))\n",
    "\n",
    "x_loc_2 = encoder.predict(np.array([x_train[57,:]]))\n",
    "\n",
    "# Generate uniform grid between two local minima\n",
    "\n",
    "if x_loc_1[0][0] < x_loc_2[0][0]:\n",
    "    x = np.linspace(x_loc_1[0][0], x_loc_2[0][0], num=10)\n",
    "    print('loc_1(x)<loc_2(x)')\n",
    "else:\n",
    "    x = np.linspace(x_loc_2[0][0], x_loc_1[0][0], num=10)\n",
    "    print('loc_2(x)<loc_1(x)')\n",
    "    \n",
    "if x_loc_1[0][1] < x_loc_2[0][1]:\n",
    "    y = np.linspace(x_loc_1[0][1], x_loc_2[0][1], num=10)\n",
    "    print('loc_1(y)<loc_2(y)')\n",
    "else:\n",
    "    y = np.linspace(x_loc_2[0][1], x_loc_1[0][1], num=10)\n",
    "    print('loc_2(y)<loc_1(y)')\n",
    "\n",
    "cv = np.concatenate((np.array([x]),np.array([y])), axis=0)    \n",
    "\n",
    "A = np.array([np.zeros(x_train.shape[1])])\n",
    "for i in range(0,10):\n",
    "    for j in range(0,10):\n",
    "        pt = np.array([[x[i],y[j]]])\n",
    "        A = np.concatenate((A,decoder.predict(pt)), axis=0)\n",
    "\n",
    "A = np.transpose(A[1:,:])\n",
    "\n",
    "scipy.io.savemat('cv.mat', {'cv': cv})\n",
    "scipy.io.savemat('A.mat', {'A': A})  "
   ]
  },
  {
   "cell_type": "code",
   "execution_count": 17,
   "id": "6252719e-de74-4788-b822-b5ff6eacd829",
   "metadata": {},
   "outputs": [
    {
     "data": {
      "text/plain": [
       "17"
      ]
     },
     "execution_count": 17,
     "metadata": {},
     "output_type": "execute_result"
    }
   ],
   "source": [
    "import tensorflow as tf\n",
    "y_true = [[0],[0]]\n",
    "y_pred = [[2],[4]]\n",
    " # Using 'auto'/'sum_over_batch_size' reduction type.\n",
    "mse = tf.keras.losses.MeanSquaredError()\n",
    "mse(y_true, y_pred, sample_weight=[0.5,2]).numpy()"
   ]
  },
  {
   "cell_type": "code",
   "execution_count": 46,
   "id": "60b1ae46-7fa1-47ff-b8f6-1f601a8fce1e",
   "metadata": {},
   "outputs": [
    {
     "data": {
      "text/plain": [
       "(2002, 9)"
      ]
     },
     "execution_count": 46,
     "metadata": {},
     "output_type": "execute_result"
    }
   ],
   "source": [
    "x_test.shape"
   ]
  },
  {
   "cell_type": "code",
   "execution_count": null,
   "id": "4cdbc123-92a6-43f2-b1b7-515bc6b95dbe",
   "metadata": {},
   "outputs": [],
   "source": []
  }
 ],
 "metadata": {
  "kernelspec": {
   "display_name": "tensorflow-2.9.0",
   "language": "python",
   "name": "tensorflow-2.9.0"
  },
  "language_info": {
   "codemirror_mode": {
    "name": "ipython",
    "version": 3
   },
   "file_extension": ".py",
   "mimetype": "text/x-python",
   "name": "python",
   "nbconvert_exporter": "python",
   "pygments_lexer": "ipython3",
   "version": "3.9.12"
  }
 },
 "nbformat": 4,
 "nbformat_minor": 5
}
